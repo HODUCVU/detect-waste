{
 "cells": [
  {
   "cell_type": "markdown",
   "id": "beautiful-algorithm",
   "metadata": {},
   "source": [
    "# Credits\n",
    "\n",
    "Updated to detectwaste by:\n",
    "* Sylwia Majchrowska"
   ]
  },
  {
   "cell_type": "code",
   "execution_count": null,
   "id": "significant-biology",
   "metadata": {},
   "outputs": [],
   "source": [
    "%matplotlib inline\n",
    "import sys\n",
    "from pycocotools.coco import COCO\n",
    "import json\n",
    "import numpy as np\n",
    "import pandas as pd\n",
    "import matplotlib.pyplot as plt\n",
    "import seaborn as sns; sns.set()\n",
    "import os\n",
    "import skimage\n",
    "import skimage.io as io\n",
    "import copy"
   ]
  },
  {
   "cell_type": "code",
   "execution_count": null,
   "id": "forty-manner",
   "metadata": {},
   "outputs": [],
   "source": [
    "def show_values_on_bars(axs, h_v=\"v\", space=0.4):\n",
    "    def _show_on_single_plot(ax):\n",
    "        if h_v == \"v\":\n",
    "            for p in ax.patches:\n",
    "                _x = p.get_x() + p.get_width() / 2\n",
    "                _y = p.get_y() + p.get_height()\n",
    "                value = int(p.get_height())\n",
    "                ax.text(_x, _y, value, ha=\"center\") \n",
    "        elif h_v == \"h\":\n",
    "            for p in ax.patches:\n",
    "                _x = p.get_x() + p.get_width() + float(space)\n",
    "                _y = p.get_y() + p.get_height()\n",
    "                value = int(p.get_width())\n",
    "                ax.text(_x, _y, value, ha=\"left\")\n",
    "\n",
    "    if isinstance(axs, np.ndarray):\n",
    "        for idx, ax in np.ndenumerate(axs):\n",
    "            _show_on_single_plot(ax)\n",
    "    else:\n",
    "        _show_on_single_plot(axs)"
   ]
  },
  {
   "cell_type": "markdown",
   "id": "caring-generation",
   "metadata": {},
   "source": [
    "## TrashCan 1.0\n",
    "- background: under watter\n",
    "- classes: 8\n",
    "- comment: captured frames of 3 videos (very similiar photos of the same objects)\n",
    "- annotation: inastance masks"
   ]
  },
  {
   "cell_type": "code",
   "execution_count": null,
   "id": "painted-singles",
   "metadata": {},
   "outputs": [],
   "source": [
    "dataDir='/dih4/dih4_2/wimlds/data/TrashCan_v1/material_version'\n",
    "dataType='all'\n",
    "annFile='{}/instances_{}_trashcan.json'.format(dataDir,dataType)\n",
    "\n",
    "# initialize COCO api for instance annotations\n",
    "coco=COCO(annFile)"
   ]
  },
  {
   "cell_type": "code",
   "execution_count": null,
   "id": "social-rhythm",
   "metadata": {},
   "outputs": [],
   "source": [
    "# display COCO categories and supercategories\n",
    "cats = coco.loadCats(coco.getCatIds())\n",
    "nms=[cat['name'] for cat in cats]\n",
    "print('COCO categories: \\n{}\\n'.format(', '.join(nms)))\n",
    "\n",
    "nms = set([cat['supercategory'] for cat in cats])\n",
    "print('COCO supercategories: \\n{}'.format(', '.join(nms)))"
   ]
  },
  {
   "cell_type": "code",
   "execution_count": null,
   "id": "hairy-baker",
   "metadata": {},
   "outputs": [],
   "source": [
    "# load and display image\n",
    "catIds = coco.getCatIds(catNms=['trash_wood']);\n",
    "imgIds = coco.getImgIds(catIds=catIds);\n",
    "img_id = imgIds[np.random.randint(0,len(imgIds))]\n",
    "print('Image n°{}'.format(img_id))\n",
    "\n",
    "img = coco.loadImgs(img_id)[0]\n",
    "\n",
    "img_name = '%s/%s/%s'%(dataDir, dataType, img['file_name'])\n",
    "#img_name = '%s/%s'%(dataDir, img['file_name'])\n",
    "print('Image name: {}'.format(img_name))\n",
    "\n",
    "I = io.imread(img_name)\n",
    "plt.figure()\n",
    "plt.imshow(I)\n",
    "plt.axis('off')"
   ]
  },
  {
   "cell_type": "code",
   "execution_count": null,
   "id": "federal-tracy",
   "metadata": {},
   "outputs": [],
   "source": [
    "# load and display instance annotations\n",
    "plt.imshow(I); plt.axis('off')\n",
    "annIds = coco.getAnnIds(imgIds=img['id'], catIds=catIds)\n",
    "anns = coco.loadAnns(annIds)\n",
    "coco.showAnns(anns, draw_bbox=True)"
   ]
  },
  {
   "cell_type": "code",
   "execution_count": null,
   "id": "piano-jonathan",
   "metadata": {},
   "outputs": [],
   "source": [
    "with open(annFile, 'r') as f:\n",
    "    dataset = json.loads(f.read())\n",
    "\n",
    "# select only trash\n",
    "#trash_categories = [item for item in dataset['categories'] if item['name'].startswith('trash')]\n",
    "cat_names = [item['name'] for item in dataset['categories'] if item['name'].startswith('trash')]\n",
    "#trash_categories\n",
    "\n",
    "# define variables\n",
    "categories = dataset['categories']\n",
    "anns = dataset['annotations']\n",
    "imgs = dataset['images']\n",
    "nr_cats = len(categories)\n",
    "nr_annotations = len(anns)\n",
    "nr_images = len(imgs)"
   ]
  },
  {
   "cell_type": "code",
   "execution_count": null,
   "id": "anonymous-alloy",
   "metadata": {},
   "outputs": [],
   "source": [
    "# Count annotations\n",
    "cat_histogram = np.zeros(len(dataset['categories']),dtype=int)\n",
    "for ann in dataset['annotations']:\n",
    "    cat_histogram[ann['category_id'] - 1] += 1\n",
    "\n",
    "# Initialize the matplotlib figure\n",
    "f, ax = plt.subplots(figsize=(5,15))\n",
    "\n",
    "# Convert to DataFrame\n",
    "df = pd.DataFrame({'Categories': cat_names, 'Number of annotations': cat_histogram})\n",
    "df = df.sort_values('Number of annotations', 0, False)\n",
    "\n",
    "# Plot the histogram\n",
    "sns.set_color_codes(\"pastel\")\n",
    "sns.set(style=\"whitegrid\")\n",
    "plot_1 = sns.barplot(x=\"Number of annotations\", y=\"Categories\", data=df,\n",
    "            label=\"Total\", color=\"b\")\n",
    "show_values_on_bars(plot_1, \"h\", 0.3)"
   ]
  },
  {
   "cell_type": "code",
   "execution_count": null,
   "id": "national-castle",
   "metadata": {},
   "outputs": [],
   "source": [
    "print(len(dataset['images']), len([ann for ann in dataset['annotations'] if ann['image_id'] in [i['id'] for i in dataset['images']]]))"
   ]
  },
  {
   "cell_type": "code",
   "execution_count": null,
   "id": "universal-georgia",
   "metadata": {},
   "outputs": [],
   "source": [
    "def trashcan_to_detectwaste(label):\n",
    "    metals_and_plastics = ['trash_plastic', 'trash_metal']\n",
    "    \n",
    "    non_recyclable = ['trash_fabric', 'trash_rubber', 'trash_paper']\n",
    "    \n",
    "    other = ['trash_fishing_gear']\n",
    "    bio = ['trash_wood']\n",
    "    unknown = ['trash_etc']\n",
    "\n",
    "    if (label in metals_and_plastics):\n",
    "        label=\"metals_and_plastics\"\n",
    "    elif(label in non_recyclable):\n",
    "        label=\"non-recyclable\"\n",
    "    elif(label in other):\n",
    "        label=\"other\"\n",
    "    elif(label in bio):\n",
    "        label=\"bio\"\n",
    "    elif(label in unknown):\n",
    "        label=\"unknown\"\n",
    "    else:\n",
    "        print(label, \"is non-trashcan label\")\n",
    "        label = \"unknown\"\n",
    "    return label"
   ]
  },
  {
   "cell_type": "markdown",
   "id": "integrated-memorabilia",
   "metadata": {},
   "source": [
    "## Trash-ICRA19\n",
    "- background: under watter\n",
    "- classes: 7\n",
    "- comment: captured frames of 3 videos (very similiar photos of the same objects)\n",
    "- annotation: bboxes"
   ]
  },
  {
   "cell_type": "code",
   "execution_count": null,
   "id": "loving-strain",
   "metadata": {},
   "outputs": [],
   "source": [
    "dataDir='/dih4/dih4_2/wimlds/data/trash_icra19/'\n",
    "dataType='all'\n",
    "annFile='{}/{}_icra_coco.json'.format(dataDir,dataType)\n",
    "\n",
    "# initialize COCO api for instance annotations\n",
    "coco=COCO(annFile)"
   ]
  },
  {
   "cell_type": "code",
   "execution_count": null,
   "id": "floating-nicholas",
   "metadata": {},
   "outputs": [],
   "source": [
    "# display COCO categories and supercategories\n",
    "cats = coco.loadCats(coco.getCatIds())\n",
    "nms=[cat['name'] for cat in cats]\n",
    "print('COCO categories: \\n{}\\n'.format(', '.join(nms)))\n",
    "\n",
    "nms = set([cat['supercategory'] for cat in cats])\n",
    "print('COCO supercategories: \\n{}'.format(', '.join(nms)))"
   ]
  },
  {
   "cell_type": "code",
   "execution_count": null,
   "id": "international-paper",
   "metadata": {},
   "outputs": [],
   "source": [
    "# load and display image\n",
    "catIds = coco.getCatIds(catNms=['rubber']);\n",
    "imgIds = coco.getImgIds(catIds=catIds);\n",
    "img_id = imgIds[np.random.randint(0,len(imgIds))]\n",
    "print('Image n°{}'.format(img_id))\n",
    "\n",
    "img = coco.loadImgs(img_id)[0]\n",
    "\n",
    "img_name = '%s/%s/%s'%(dataDir, dataType, img['file_name'])\n",
    "#img_name = '%s/%s'%(dataDir, img['file_name'])\n",
    "print('Image name: {}'.format(img_name))\n",
    "\n",
    "I = io.imread(img_name)\n",
    "plt.figure()\n",
    "plt.imshow(I)\n",
    "plt.axis('off')"
   ]
  },
  {
   "cell_type": "code",
   "execution_count": null,
   "id": "otherwise-version",
   "metadata": {},
   "outputs": [],
   "source": [
    "# load and display instance annotations\n",
    "plt.imshow(I); plt.axis('off')\n",
    "annIds = coco.getAnnIds(imgIds=img['id'], catIds=catIds)\n",
    "anns = coco.loadAnns(annIds)\n",
    "coco.showAnns(anns, draw_bbox=True)"
   ]
  },
  {
   "cell_type": "code",
   "execution_count": null,
   "id": "japanese-switzerland",
   "metadata": {},
   "outputs": [],
   "source": [
    "with open(annFile, 'r') as f:\n",
    "    dataset = json.loads(f.read())\n",
    "\n",
    "# select only trash\n",
    "allowed_items = ['plastic', 'unknown', 'cloth', 'rubber', 'metal', 'wood', 'platstic', 'paper', 'papper']\n",
    "cat_names = [item['name'] for item in dataset['categories'] if item['name'] in allowed_items]\n",
    "trash_categories = [item for item in dataset['categories'] if item['name'] in allowed_items]\n",
    "\n",
    "print(trash_categories)\n",
    "\n",
    "# define variables\n",
    "categories = dataset['categories']\n",
    "anns = dataset['annotations']\n",
    "imgs = dataset['images']\n",
    "nr_cats = len(categories)\n",
    "nr_annotations = len(anns)\n",
    "nr_images = len(imgs)"
   ]
  },
  {
   "cell_type": "code",
   "execution_count": null,
   "id": "severe-analysis",
   "metadata": {},
   "outputs": [],
   "source": [
    "# Count annotations\n",
    "cat_histogram = np.zeros(len(trash_categories),dtype=int)\n",
    "for ann in dataset['annotations']:\n",
    "    cat_histogram[ann['category_id'] - 1] += 1\n",
    "\n",
    "# Initialize the matplotlib figure\n",
    "f, ax = plt.subplots(figsize=(5,15))\n",
    "\n",
    "# Convert to DataFrame\n",
    "df = pd.DataFrame({'Categories': cat_names, 'Number of annotations': cat_histogram})\n",
    "df = df.sort_values('Number of annotations', 0, False)\n",
    "\n",
    "# Plot the histogram\n",
    "sns.set_color_codes(\"pastel\")\n",
    "sns.set(style=\"whitegrid\")\n",
    "plot_1 = sns.barplot(x=\"Number of annotations\", y=\"Categories\", data=df,\n",
    "            label=\"Total\", color=\"b\")\n",
    "show_values_on_bars(plot_1, \"h\", 0.3)"
   ]
  },
  {
   "cell_type": "code",
   "execution_count": null,
   "id": "electoral-transsexual",
   "metadata": {},
   "outputs": [],
   "source": [
    "print(len(dataset['images']), len([ann for ann in dataset['annotations'] if ann['image_id'] in [i['id'] for i in dataset['images']]]))"
   ]
  },
  {
   "cell_type": "code",
   "execution_count": null,
   "id": "answering-tooth",
   "metadata": {},
   "outputs": [],
   "source": [
    "def trashicra_to_detectwaste(label):\n",
    "    metals_and_plastics = ['plastic', 'metal', 'rubber']\n",
    "    non_recyclable = ['cloth', 'paper']\n",
    "    bio = ['wood']\n",
    "    unknown = ['unknown']\n",
    "\n",
    "    if (label in metals_and_plastics):\n",
    "        label=\"metals_and_plastics\"\n",
    "    elif(label in non_recyclable):\n",
    "        label=\"non-recyclable\"\n",
    "    elif(label in bio):\n",
    "        label=\"bio\"\n",
    "    elif(label in unknown):\n",
    "        label=\"unknown\"\n",
    "    else:\n",
    "        print(label, \"is non-trashicra label\")\n",
    "        label = \"unknown\"\n",
    "    return label"
   ]
  },
  {
   "cell_type": "markdown",
   "id": "dynamic-graphic",
   "metadata": {},
   "source": [
    "## UAVVaste\n",
    "- background: outside\n",
    "- classes: 1\n",
    "- comment: very distance trash (from dron)\n",
    "- annotation: instance masks"
   ]
  },
  {
   "cell_type": "code",
   "execution_count": null,
   "id": "other-level",
   "metadata": {},
   "outputs": [],
   "source": [
    "dataDir='/dih4/dih4_2/wimlds/data/uavvaste'\n",
    "dataType='images'\n",
    "annFile='{}/annotations.json'.format(dataDir,dataType)\n",
    "\n",
    "# initialize COCO api for instance annotations\n",
    "coco=COCO(annFile)"
   ]
  },
  {
   "cell_type": "code",
   "execution_count": null,
   "id": "piano-optimization",
   "metadata": {},
   "outputs": [],
   "source": [
    "# display COCO categories and supercategories\n",
    "cats = coco.loadCats(coco.getCatIds())\n",
    "nms=[cat['name'] for cat in cats]\n",
    "print('COCO categories: \\n{}\\n'.format(', '.join(nms)))\n",
    "\n",
    "nms = set([cat['supercategory'] for cat in cats])\n",
    "print('COCO supercategories: \\n{}'.format(', '.join(nms)))"
   ]
  },
  {
   "cell_type": "code",
   "execution_count": null,
   "id": "gorgeous-dayton",
   "metadata": {},
   "outputs": [],
   "source": [
    "# load and display image\n",
    "catIds = coco.getCatIds(catNms=['rubber']);\n",
    "imgIds = coco.getImgIds(catIds=catIds);\n",
    "img_id = imgIds[np.random.randint(0,len(imgIds))]\n",
    "print('Image n°{}'.format(img_id))\n",
    "\n",
    "img = coco.loadImgs(img_id)[0]\n",
    "\n",
    "img_name = '%s/%s/%s'%(dataDir, dataType, img['file_name'])\n",
    "#img_name = '%s/%s'%(dataDir, img['file_name'])\n",
    "print('Image name: {}'.format(img_name))\n",
    "\n",
    "I = io.imread(img_name)\n",
    "plt.figure()\n",
    "plt.imshow(I)\n",
    "plt.axis('off')"
   ]
  },
  {
   "cell_type": "code",
   "execution_count": null,
   "id": "ignored-chapel",
   "metadata": {},
   "outputs": [],
   "source": [
    "# load and display instance annotations\n",
    "plt.imshow(I); plt.axis('off')\n",
    "annIds = coco.getAnnIds(imgIds=img['id'], catIds=catIds)\n",
    "anns = coco.loadAnns(annIds)\n",
    "coco.showAnns(anns, draw_bbox=True)"
   ]
  },
  {
   "cell_type": "code",
   "execution_count": null,
   "id": "suburban-letters",
   "metadata": {},
   "outputs": [],
   "source": [
    "with open(annFile, 'r') as f:\n",
    "    dataset = json.loads(f.read())\n",
    "\n",
    "cat_names = [item['name'] for item in dataset['categories'] if item['name']]\n",
    "trash_categories = dataset['categories']\n",
    "    \n",
    "# define variables\n",
    "categories = dataset['categories']\n",
    "anns = dataset['annotations']\n",
    "imgs = dataset['images']\n",
    "nr_cats = len(categories)\n",
    "nr_annotations = len(anns)\n",
    "nr_images = len(imgs)"
   ]
  },
  {
   "cell_type": "code",
   "execution_count": null,
   "id": "indie-alexandria",
   "metadata": {},
   "outputs": [],
   "source": [
    "# Count annotations\n",
    "cat_histogram = np.zeros(len(trash_categories),dtype=int)\n",
    "for ann in dataset['annotations']:\n",
    "    cat_histogram[ann['category_id'] - 1] += 1\n",
    "\n",
    "# Initialize the matplotlib figure\n",
    "f, ax = plt.subplots(figsize=(5,15))\n",
    "\n",
    "# Convert to DataFrame\n",
    "df = pd.DataFrame({'Categories': cat_names, 'Number of annotations': cat_histogram})\n",
    "df = df.sort_values('Number of annotations', 0, False)\n",
    "\n",
    "# Plot the histogram\n",
    "sns.set_color_codes(\"pastel\")\n",
    "sns.set(style=\"whitegrid\")\n",
    "plot_1 = sns.barplot(x=\"Number of annotations\", y=\"Categories\", data=df,\n",
    "            label=\"Total\", color=\"b\")\n",
    "show_values_on_bars(plot_1, \"h\", 0.3)"
   ]
  },
  {
   "cell_type": "markdown",
   "id": "dominant-break",
   "metadata": {},
   "source": [
    "## Drink waste\n",
    "- background: indoor\n",
    "- classes: 4\n",
    "- comment: very similiar photos of the same objects\n",
    "- annotation: bboxes"
   ]
  },
  {
   "cell_type": "code",
   "execution_count": null,
   "id": "norman-software",
   "metadata": {},
   "outputs": [],
   "source": [
    "dataDir='/dih4/dih4_2/wimlds/data/'\n",
    "dataType='drinking-waste/YOLO_imgs'\n",
    "annFile='{}/drinkwaste_coco.json'.format(dataDir)\n",
    "\n",
    "# initialize COCO api for instance annotations\n",
    "coco=COCO(annFile)"
   ]
  },
  {
   "cell_type": "code",
   "execution_count": null,
   "id": "frozen-output",
   "metadata": {},
   "outputs": [],
   "source": [
    "# display COCO categories and supercategories\n",
    "cats = coco.loadCats(coco.getCatIds())\n",
    "nms=[cat['name'] for cat in cats]\n",
    "print('COCO categories: \\n{}\\n'.format(', '.join(nms)))\n",
    "\n",
    "nms = set([cat['supercategory'] for cat in cats])\n",
    "print('COCO supercategories: \\n{}'.format(', '.join(nms)))"
   ]
  },
  {
   "cell_type": "code",
   "execution_count": null,
   "id": "academic-headquarters",
   "metadata": {},
   "outputs": [],
   "source": [
    "# load and display image\n",
    "catIds = coco.getCatIds(catNms=['Glass']);\n",
    "imgIds = coco.getImgIds(catIds=catIds);\n",
    "img_id = imgIds[np.random.randint(0,len(imgIds))]\n",
    "print('Image n°{}'.format(img_id))\n",
    "\n",
    "img = coco.loadImgs(img_id)[0]\n",
    "\n",
    "img_name = '%s/%s/%s'%(dataDir, dataType, img['file_name'])\n",
    "#img_name = '%s/%s'%(dataDir, img['file_name'])\n",
    "print('Image name: {}'.format(img_name))\n",
    "\n",
    "I = io.imread(img_name)\n",
    "plt.figure()\n",
    "plt.imshow(I)\n",
    "plt.axis('off')"
   ]
  },
  {
   "cell_type": "code",
   "execution_count": null,
   "id": "anonymous-catch",
   "metadata": {},
   "outputs": [],
   "source": [
    "# load and display instance annotations\n",
    "plt.imshow(I); plt.axis('off')\n",
    "annIds = coco.getAnnIds(imgIds=img['id'], catIds=catIds)\n",
    "anns = coco.loadAnns(annIds)\n",
    "coco.showAnns(anns, draw_bbox=True)"
   ]
  },
  {
   "cell_type": "code",
   "execution_count": null,
   "id": "literary-passing",
   "metadata": {},
   "outputs": [],
   "source": [
    "with open(annFile, 'r') as f:\n",
    "    dataset = json.loads(f.read())\n",
    "\n",
    "cat_names = [item['name'] for item in dataset['categories'] if item['name']]\n",
    "trash_categories = dataset['categories']\n",
    "    \n",
    "# define variables\n",
    "categories = dataset['categories']\n",
    "anns = dataset['annotations']\n",
    "imgs = dataset['images']\n",
    "nr_cats = len(categories)\n",
    "nr_annotations = len(anns)\n",
    "nr_images = len(imgs)"
   ]
  },
  {
   "cell_type": "code",
   "execution_count": null,
   "id": "legal-interface",
   "metadata": {},
   "outputs": [],
   "source": [
    "# Count annotations\n",
    "cat_histogram = np.zeros(len(trash_categories),dtype=int)\n",
    "for ann in dataset['annotations']:\n",
    "    cat_histogram[ann['category_id'] - 1] += 1\n",
    "\n",
    "# Initialize the matplotlib figure\n",
    "f, ax = plt.subplots(figsize=(5,15))\n",
    "\n",
    "# Convert to DataFrame\n",
    "df = pd.DataFrame({'Categories': cat_names, 'Number of annotations': cat_histogram})\n",
    "df = df.sort_values('Number of annotations', 0, False)\n",
    "\n",
    "# Plot the histogram\n",
    "sns.set_color_codes(\"pastel\")\n",
    "sns.set(style=\"whitegrid\")\n",
    "plot_1 = sns.barplot(x=\"Number of annotations\", y=\"Categories\", data=df,\n",
    "            label=\"Total\", color=\"b\")\n",
    "show_values_on_bars(plot_1, \"h\", 0.3)"
   ]
  },
  {
   "cell_type": "code",
   "execution_count": null,
   "id": "challenging-agent",
   "metadata": {},
   "outputs": [],
   "source": [
    "def drinkingwaste_to_detectwaste(label):\n",
    "    metals_and_plastics = ['PET', 'HDPEM', 'AluCan']\n",
    "    glass = ['Glass']\n",
    "\n",
    "    if (label in metals_and_plastics):\n",
    "        label=\"metals_and_plastics\"\n",
    "    elif(label in glass):\n",
    "        label=\"glass\"\n",
    "    else:\n",
    "        print(label, \"is non-drinkingwaste label\")\n",
    "        label = \"unknown\"\n",
    "    return label"
   ]
  },
  {
   "cell_type": "markdown",
   "id": "compliant-project",
   "metadata": {},
   "source": [
    "## MJU-Waste v1.0\n",
    "- background: indoor, in hand\n",
    "- classes: 1\n",
    "- comment: such simply background, labolatroy\n",
    "- annotation: instance masks (and depth - RGBD images)"
   ]
  },
  {
   "cell_type": "code",
   "execution_count": null,
   "id": "junior-reservation",
   "metadata": {},
   "outputs": [],
   "source": [
    "dataDir='/dih4/dih4_2/wimlds/data/mju-waste-v1'\n",
    "dataType='JPEGImages'\n",
    "type_ann='all'\n",
    "annFile='{}/mju-waste/{}.json'.format(dataDir, type_ann)\n",
    "\n",
    "# initialize COCO api for instance annotations\n",
    "coco=COCO(annFile)"
   ]
  },
  {
   "cell_type": "code",
   "execution_count": null,
   "id": "stylish-sarah",
   "metadata": {},
   "outputs": [],
   "source": [
    "# display COCO categories and supercategories\n",
    "cats = coco.loadCats(coco.getCatIds())\n",
    "nms=[cat['name'] for cat in cats]\n",
    "print('COCO categories: \\n{}\\n'.format(', '.join(nms)))\n",
    "\n",
    "nms = set([cat['supercategory'] for cat in cats])\n",
    "print('COCO supercategories: \\n{}'.format(', '.join(nms)))"
   ]
  },
  {
   "cell_type": "code",
   "execution_count": null,
   "id": "structured-organic",
   "metadata": {},
   "outputs": [],
   "source": [
    "# load and display image\n",
    "catIds = coco.getCatIds(catNms=['Rubbish']);\n",
    "imgIds = coco.getImgIds(catIds=catIds);\n",
    "img_id = imgIds[np.random.randint(0,len(imgIds))]\n",
    "print('Image n°{}'.format(img_id))\n",
    "\n",
    "img = coco.loadImgs(img_id)[0]\n",
    "\n",
    "img_name = '%s/%s/%s'%(dataDir, dataType, img['file_name'])\n",
    "#img_name = '%s/%s'%(dataDir, img['file_name'])\n",
    "print('Image name: {}'.format(img_name))\n",
    "\n",
    "I = io.imread(img_name)\n",
    "plt.figure()\n",
    "plt.imshow(I)\n",
    "plt.axis('off')"
   ]
  },
  {
   "cell_type": "code",
   "execution_count": null,
   "id": "affecting-aspect",
   "metadata": {},
   "outputs": [],
   "source": [
    "# load and display instance annotations\n",
    "plt.imshow(I); plt.axis('off')\n",
    "annIds = coco.getAnnIds(imgIds=img['id'], catIds=catIds)\n",
    "anns = coco.loadAnns(annIds)\n",
    "coco.showAnns(anns, draw_bbox=True)"
   ]
  },
  {
   "cell_type": "code",
   "execution_count": null,
   "id": "grave-confidence",
   "metadata": {},
   "outputs": [],
   "source": [
    "with open(annFile, 'r') as f:\n",
    "    dataset = json.loads(f.read())\n",
    "\n",
    "cat_names = [item['name'] for item in dataset['categories'] if item['name']]\n",
    "trash_categories = dataset['categories']\n",
    "    \n",
    "# define variables\n",
    "categories = dataset['categories']\n",
    "anns = dataset['annotations']\n",
    "imgs = dataset['images']\n",
    "nr_cats = len(categories)\n",
    "nr_annotations = len(anns)\n",
    "nr_images = len(imgs)"
   ]
  },
  {
   "cell_type": "code",
   "execution_count": null,
   "id": "disciplinary-feelings",
   "metadata": {},
   "outputs": [],
   "source": [
    "# Count annotations\n",
    "cat_histogram = np.zeros(len(trash_categories),dtype=int)\n",
    "for ann in dataset['annotations']:\n",
    "    cat_histogram[ann['category_id'] - 1] += 1\n",
    "\n",
    "# Initialize the matplotlib figure\n",
    "f, ax = plt.subplots(figsize=(5,15))\n",
    "\n",
    "# Convert to DataFrame\n",
    "df = pd.DataFrame({'Categories': cat_names, 'Number of annotations': cat_histogram})\n",
    "df = df.sort_values('Number of annotations', 0, False)\n",
    "\n",
    "# Plot the histogram\n",
    "sns.set_color_codes(\"pastel\")\n",
    "sns.set(style=\"whitegrid\")\n",
    "plot_1 = sns.barplot(x=\"Number of annotations\", y=\"Categories\", data=df,\n",
    "            label=\"Total\", color=\"b\")\n",
    "show_values_on_bars(plot_1, \"h\", 0.3)"
   ]
  },
  {
   "cell_type": "markdown",
   "id": "tough-reset",
   "metadata": {},
   "source": [
    "## wade-ai\n",
    "- background: outside, google maps\n",
    "- classes: 1\n",
    "- comment: roads and pavements\n",
    "- annotation: instance masks"
   ]
  },
  {
   "cell_type": "code",
   "execution_count": null,
   "id": "respiratory-mechanics",
   "metadata": {},
   "outputs": [],
   "source": [
    "dataDir='/dih4/dih4_2/wimlds/data/wade-ai'\n",
    "dataType='wade-ai_images'\n",
    "type_ann='all'\n",
    "annFile='{}/{}_wade_ai.json'.format(dataDir, type_ann)\n",
    "\n",
    "# initialize COCO api for instance annotations\n",
    "coco=COCO(annFile)"
   ]
  },
  {
   "cell_type": "code",
   "execution_count": null,
   "id": "answering-aging",
   "metadata": {},
   "outputs": [],
   "source": [
    "# display COCO categories and supercategories\n",
    "cats = coco.loadCats(coco.getCatIds())\n",
    "nms=[cat['name'] for cat in cats]\n",
    "print('COCO categories: \\n{}\\n'.format(', '.join(nms)))\n",
    "\n",
    "nms = set([cat['supercategory'] for cat in cats])\n",
    "print('COCO supercategories: \\n{}'.format(', '.join(nms)))"
   ]
  },
  {
   "cell_type": "code",
   "execution_count": null,
   "id": "little-genre",
   "metadata": {},
   "outputs": [],
   "source": [
    "# load and display image\n",
    "catIds = coco.getCatIds(catNms=['Rubbish']);\n",
    "imgIds = coco.getImgIds(catIds=catIds);\n",
    "img_id = imgIds[np.random.randint(0,len(imgIds))]\n",
    "print('Image n°{}'.format(img_id))\n",
    "\n",
    "img = coco.loadImgs(img_id)[0]\n",
    "\n",
    "img_name = '%s/%s/%s'%(dataDir, dataType, img['file_name'])\n",
    "#img_name = '%s/%s'%(dataDir, img['file_name'])\n",
    "print('Image name: {}'.format(img_name))\n",
    "\n",
    "I = io.imread(img_name)\n",
    "plt.figure()\n",
    "plt.imshow(I)\n",
    "plt.axis('off')"
   ]
  },
  {
   "cell_type": "code",
   "execution_count": null,
   "id": "assisted-casino",
   "metadata": {},
   "outputs": [],
   "source": [
    "# load and display instance annotations\n",
    "plt.imshow(I); plt.axis('off')\n",
    "annIds = coco.getAnnIds(imgIds=img['id'], catIds=catIds)\n",
    "anns = coco.loadAnns(annIds)\n",
    "coco.showAnns(anns)#, draw_bbox=True)"
   ]
  },
  {
   "cell_type": "code",
   "execution_count": null,
   "id": "capital-radar",
   "metadata": {},
   "outputs": [],
   "source": [
    "with open(annFile, 'r') as f:\n",
    "    dataset = json.loads(f.read())\n",
    "\n",
    "cat_names = [item['name'] for item in dataset['categories'] if item['name']]\n",
    "trash_categories = dataset['categories']\n",
    "    \n",
    "# define variables\n",
    "categories = dataset['categories']\n",
    "anns = dataset['annotations']\n",
    "imgs = dataset['images']\n",
    "nr_cats = len(categories)\n",
    "nr_annotations = len(anns)\n",
    "nr_images = len(imgs)"
   ]
  },
  {
   "cell_type": "code",
   "execution_count": null,
   "id": "careful-uzbekistan",
   "metadata": {},
   "outputs": [],
   "source": [
    "# Count annotations\n",
    "cat_histogram = np.zeros(len(trash_categories),dtype=int)\n",
    "for ann in dataset['annotations']:\n",
    "    ann['category_id'] = 1\n",
    "    cat_histogram[ann['category_id'] - 1] += 1\n",
    "\n",
    "# Initialize the matplotlib figure\n",
    "f, ax = plt.subplots(figsize=(5,15))\n",
    "\n",
    "# Convert to DataFrame\n",
    "df = pd.DataFrame({'Categories': cat_names, 'Number of annotations': cat_histogram})\n",
    "df = df.sort_values('Number of annotations', 0, False)\n",
    "\n",
    "# Plot the histogram\n",
    "sns.set_color_codes(\"pastel\")\n",
    "sns.set(style=\"whitegrid\")\n",
    "plot_1 = sns.barplot(x=\"Number of annotations\", y=\"Categories\", data=df,\n",
    "            label=\"Total\", color=\"b\")\n",
    "show_values_on_bars(plot_1, \"h\", 0.3)"
   ]
  },
  {
   "cell_type": "code",
   "execution_count": null,
   "id": "middle-performance",
   "metadata": {},
   "outputs": [],
   "source": [
    "with open('/dih4/dih4_home/smajchrowska/detect-waste/annotations/annotations_binary_train.json', 'r') as f:\n",
    "    dataset = json.loads(f.read())\n",
    "cat_names = [item['name'] for item in dataset['categories'] if item['name']]\n",
    "trash_categories = dataset['categories']\n",
    "    \n",
    "# define variables\n",
    "categories = dataset['categories']\n",
    "anns = dataset['annotations']\n",
    "imgs = dataset['images']\n",
    "nr_cats = len(categories)\n",
    "nr_annotations = len(anns)\n",
    "nr_images = len(imgs)"
   ]
  },
  {
   "cell_type": "code",
   "execution_count": null,
   "id": "continuous-mouse",
   "metadata": {},
   "outputs": [],
   "source": [
    "# Count annotations\n",
    "cat_histogram = np.zeros(len(trash_categories),dtype=int)\n",
    "for ann in dataset['annotations']:\n",
    "    cat_histogram[ann['category_id']-1] += 1\n",
    "\n",
    "# Initialize the matplotlib figure\n",
    "f, ax = plt.subplots(figsize=(5,15))\n",
    "\n",
    "# Convert to DataFrame\n",
    "df = pd.DataFrame({'Categories': cat_names, 'Number of annotations': cat_histogram})\n",
    "df = df.sort_values('Number of annotations', 0, False)\n",
    "\n",
    "# Plot the histogram\n",
    "sns.set_color_codes(\"pastel\")\n",
    "sns.set(style=\"whitegrid\")\n",
    "plot_1 = sns.barplot(x=\"Number of annotations\", y=\"Categories\", data=df,\n",
    "            label=\"Total\", color=\"b\")\n",
    "show_values_on_bars(plot_1, \"h\", 0.3)"
   ]
  },
  {
   "cell_type": "code",
   "execution_count": null,
   "id": "stable-tenant",
   "metadata": {},
   "outputs": [],
   "source": [
    "len(imgs)"
   ]
  },
  {
   "cell_type": "code",
   "execution_count": null,
   "id": "virgin-syria",
   "metadata": {},
   "outputs": [],
   "source": []
  }
 ],
 "metadata": {
  "kernelspec": {
   "display_name": "detr",
   "language": "python",
   "name": "detr"
  },
  "language_info": {
   "codemirror_mode": {
    "name": "ipython",
    "version": 3
   },
   "file_extension": ".py",
   "mimetype": "text/x-python",
   "name": "python",
   "nbconvert_exporter": "python",
   "pygments_lexer": "ipython3"
  }
 },
 "nbformat": 4,
 "nbformat_minor": 5
}
