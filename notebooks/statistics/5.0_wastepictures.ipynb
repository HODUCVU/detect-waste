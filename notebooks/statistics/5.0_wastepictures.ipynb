{
 "cells": [
  {
   "cell_type": "code",
   "execution_count": null,
   "metadata": {},
   "outputs": [],
   "source": [
    "%matplotlib inline\n",
    "import sys\n",
    "from pycocotools.coco import COCO\n",
    "import json\n",
    "import numpy as np\n",
    "import pandas as pd\n",
    "import matplotlib.pyplot as plt\n",
    "import seaborn as sns; sns.set()\n",
    "import os\n",
    "import skimage\n",
    "import skimage.io as io\n",
    "import copy\n",
    "from collections import defaultdict\n",
    "import cv2"
   ]
  },
  {
   "cell_type": "code",
   "execution_count": null,
   "metadata": {},
   "outputs": [],
   "source": [
    "def show_values_on_bars(axs, h_v=\"v\", space=0.4):\n",
    "    def _show_on_single_plot(ax):\n",
    "        if h_v == \"v\":\n",
    "            for p in ax.patches:\n",
    "                _x = p.get_x() + p.get_width() / 2\n",
    "                _y = p.get_y() + p.get_height()\n",
    "                value = int(p.get_height())\n",
    "                ax.text(_x, _y, value, ha=\"center\") \n",
    "        elif h_v == \"h\":\n",
    "            for p in ax.patches:\n",
    "                _x = p.get_x() + p.get_width() + float(space)\n",
    "                _y = p.get_y() + p.get_height()\n",
    "                value = int(p.get_width())\n",
    "                ax.text(_x, _y, value, ha=\"left\")\n",
    "\n",
    "    if isinstance(axs, np.ndarray):\n",
    "        for idx, ax in np.ndenumerate(axs):\n",
    "            _show_on_single_plot(ax)\n",
    "    else:\n",
    "        _show_on_single_plot(axs)"
   ]
  },
  {
   "cell_type": "code",
   "execution_count": null,
   "metadata": {},
   "outputs": [],
   "source": [
    "colors_recykling = {'metals_and_plastics':'yellow',\n",
    "                    'non-recyclable': 'gray',\n",
    "                    'unknown':'gray',\n",
    "                    'glass': 'green',\n",
    "                    'paper': 'blue',\n",
    "                    'bio': 'brown',\n",
    "                    'other': 'pink'}"
   ]
  },
  {
   "cell_type": "markdown",
   "metadata": {},
   "source": [
    "# waste pictures\n",
    "- classes: 34\n",
    "- annotation: class per image"
   ]
  },
  {
   "cell_type": "code",
   "execution_count": null,
   "metadata": {},
   "outputs": [],
   "source": [
    "dataDir = '/dih4/dih4_2/wimlds/data/waste-pictures'\n",
    "categories = os.listdir(os.path.join(dataDir,'test'))\n",
    "images = []\n",
    "nr_images = 0\n",
    "for category in categories:\n",
    "    for img in os.listdir(os.path.join(dataDir,'test',category)):        \n",
    "        images.append(f'{dataDir}/test/{category}/{img}')\n",
    "    nr_images+=len(os.listdir(os.path.join(dataDir,'test',category)))\n",
    "for category in categories:\n",
    "    for img in os.listdir(os.path.join(dataDir,'train',category)):        \n",
    "        images.append(f'{dataDir}/train/{category}/{img}')\n",
    "    nr_images+=len(os.listdir(os.path.join(dataDir,'train',category)))\n",
    "    \n",
    "nr_cats = len(categories)\n",
    "\n",
    "print(f'There are {len(categories)} categories.')\n",
    "print(f'There are {nr_images} images')"
   ]
  },
  {
   "cell_type": "code",
   "execution_count": null,
   "metadata": {},
   "outputs": [],
   "source": [
    "#load and display image\n",
    "import random\n",
    "for i in range(1,5):\n",
    "    rand_cat = random.choice(categories)\n",
    "    img_name = random.choice(os.listdir(os.path.join(os.path.join(dataDir,'train'),rand_cat)))    \n",
    "    I = io.imread(os.path.join(dataDir,'train',rand_cat,img_name))\n",
    "    plt.figure()\n",
    "    plt.imshow(I)\n",
    "    plt.axis('off')\n",
    "    print(rand_cat, img_name)\n"
   ]
  },
  {
   "cell_type": "code",
   "execution_count": null,
   "metadata": {},
   "outputs": [],
   "source": [
    "test_categories_count = {category: len(os.listdir(os.path.join(dataDir,'test',category))) for category in categories}\n",
    "test_categories_count"
   ]
  },
  {
   "cell_type": "code",
   "execution_count": null,
   "metadata": {},
   "outputs": [],
   "source": [
    "train_categories_count = {category: len(os.listdir(os.path.join(dataDir,'train',category))) for category in categories}\n",
    "train_categories_count"
   ]
  },
  {
   "cell_type": "code",
   "execution_count": null,
   "metadata": {},
   "outputs": [],
   "source": [
    "all_categories_count = {category: len(os.listdir(os.path.join(dataDir,'test',category)))+len(os.listdir(os.path.join(dataDir,'train',category))) for category in categories}\n",
    "all_categories_count"
   ]
  },
  {
   "cell_type": "code",
   "execution_count": null,
   "metadata": {},
   "outputs": [],
   "source": [
    "f, ax = plt.subplots(figsize=(5,15))\n",
    "\n",
    "cat_histogram = np.array([all_categories_count[category] for category in categories])\n",
    "\n",
    "# Convert to DataFrame\n",
    "df = pd.DataFrame({'Categories': categories, 'Number of images': cat_histogram})\n",
    "df = df.sort_values('Number of images', 0, False)\n",
    "\n",
    "# Plot the histogram\n",
    "sns.set_color_codes(\"pastel\")\n",
    "sns.set(style=\"whitegrid\")\n",
    "plot_1 = sns.barplot(x=\"Number of images\", y=\"Categories\", data=df,\n",
    "            label=\"Total\", color=\"b\")\n",
    "show_values_on_bars(plot_1, \"h\", 0.3)"
   ]
  },
  {
   "cell_type": "code",
   "execution_count": null,
   "metadata": {},
   "outputs": [],
   "source": [
    "def wastepictures_to_detectwaste(label):\n",
    "    glass = ['glassbottle']\n",
    "    metals_and_plastics = ['cans','milkbox','pesticidebottle','plasticbag','plasticbottle']    \n",
    "    non_recyclable = ['bandaid', 'bowlsanddishes','cigarettebutt','diapers',\n",
    "                     'facialmask','leftovers', 'medicinebottle','nailpolishbottle',\n",
    "                     'napkin','penholder','plasticene','rag','tabletcapsule','toothbrush',\n",
    "                     'toothpastetube']    \n",
    "    other = ['battery','bulb','thermometer']\n",
    "    paper = ['carton','leaflet','newspaper']\n",
    "    bio = ['bread', 'chopsticks','nut','toothpick','watermelonrind']\n",
    "    unknown = ['traditionalChinesemedicine','XLight']\n",
    "\n",
    "    if (label in glass):\n",
    "            label=\"glass\"\n",
    "    elif (label in metals_and_plastics):\n",
    "            label=\"metals_and_plastics\"\n",
    "    elif(label in non_recyclable):\n",
    "            label=\"non-recyclable\"\n",
    "    elif(label in other):\n",
    "            label=\"other\"\n",
    "    elif (label in paper):\n",
    "            label=\"paper\"\n",
    "    elif(label in bio):\n",
    "            label=\"bio\"\n",
    "    elif(label in unknown):\n",
    "            label=\"unknown\"\n",
    "    else:\n",
    "        print(label, \"is non-wastepicture label\")\n",
    "        label = \"unknown\"\n",
    "    return label"
   ]
  },
  {
   "cell_type": "code",
   "execution_count": null,
   "metadata": {},
   "outputs": [],
   "source": [
    "detect_waste_count = defaultdict(int)\n",
    "for category in categories:\n",
    "    detect_waste_count[wastepictures_to_detectwaste(category)]+=all_categories_count[category]\n",
    "detect_waste_categories = list(detect_waste_count.keys())\n",
    "detect_waste_count"
   ]
  },
  {
   "cell_type": "code",
   "execution_count": null,
   "metadata": {},
   "outputs": [],
   "source": [
    "\n",
    "f, ax = plt.subplots(figsize=(5,15))\n",
    "\n",
    "detect_waste_cat_histogram = np.array([detect_waste_count[category] for category in detect_waste_categories])\n",
    "\n",
    "# Convert to DataFrame\n",
    "df = pd.DataFrame({'Categories': detect_waste_categories, 'Number of images per detectwaste category': detect_waste_cat_histogram})\n",
    "df = df.sort_values('Number of images per detectwaste category', 0, False)\n",
    "\n",
    "# Plot the histogram\n",
    "sup_cat = df.loc[:,'Categories'].tolist()\n",
    "colors = [colors_recykling[cat] for cat in sup_cat]\n",
    "\n",
    "sns.set(style=\"whitegrid\")\n",
    "sns.set_palette(sns.color_palette(colors))\n",
    "plot_1 = sns.barplot(x=\"Number of images per detectwaste category\", y=\"Categories\", data=df,\n",
    "            label=\"Total\")\n",
    "show_values_on_bars(plot_1, \"h\", 0.3)"
   ]
  },
  {
   "cell_type": "markdown",
   "metadata": {},
   "source": [
    "### Number of images per image shape"
   ]
  },
  {
   "cell_type": "code",
   "execution_count": null,
   "metadata": {},
   "outputs": [],
   "source": [
    "# Parsing image shapes (resolutions)\n",
    "widths = []\n",
    "heights = []\n",
    "shape_freqs = []\n",
    "img_shapes_keys = {}\n",
    "\n",
    "for img in images:\n",
    "    try:\n",
    "        im = plt.imread(img)\n",
    "        width=np.shape(im)[1]\n",
    "        height=np.shape(im)[0]\n",
    "\n",
    "        key = str(width)+'-'+str(height)\n",
    "        if key in img_shapes_keys:\n",
    "            shape_id = img_shapes_keys[key]\n",
    "            shape_freqs[shape_id] += 1\n",
    "        else:\n",
    "            img_shapes_keys[key] = len(widths)\n",
    "            widths.append(width)\n",
    "            heights.append(height)\n",
    "            shape_freqs.append(1)\n",
    "    except:\n",
    "        pass\n",
    "\n",
    "d ={'Image width (px)': widths, 'Image height (px)': heights, '# images': shape_freqs}\n",
    "df = pd.DataFrame(d)\n",
    "cmap = sns.cubehelix_palette(dark=.1, light=.6, as_cmap=True)\n",
    "plot = sns.scatterplot(x=\"Image width (px)\", y=\"Image height (px)\", size='# images', hue=\"# images\", palette = cmap,data=df)\n",
    "plt.xlabel('Image width (px)', fontsize=15)\n",
    "plt.ylabel('Image height (px)', fontsize=15)\n",
    "plot = plot.set_title('Number of images per image shape',fontsize=15)"
   ]
  }
 ],
 "metadata": {
  "kernelspec": {
   "display_name": "plastic",
   "language": "python",
   "name": "plastic"
  },
  "language_info": {
   "codemirror_mode": {
    "name": "ipython",
    "version": 3
   },
   "file_extension": ".py",
   "mimetype": "text/x-python",
   "name": "python",
   "nbconvert_exporter": "python",
   "pygments_lexer": "ipython3"
  }
 },
 "nbformat": 4,
 "nbformat_minor": 4
}
