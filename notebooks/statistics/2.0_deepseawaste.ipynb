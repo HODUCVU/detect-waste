{
 "cells": [
  {
   "cell_type": "code",
   "execution_count": null,
   "metadata": {},
   "outputs": [],
   "source": [
    "%matplotlib inline\n",
    "import sys\n",
    "from pycocotools.coco import COCO\n",
    "import json\n",
    "import numpy as np\n",
    "import pandas as pd\n",
    "import matplotlib.pyplot as plt\n",
    "import seaborn as sns; sns.set()\n",
    "import os\n",
    "import skimage\n",
    "import skimage.io as io\n",
    "import copy\n",
    "from collections import defaultdict"
   ]
  },
  {
   "cell_type": "code",
   "execution_count": null,
   "metadata": {},
   "outputs": [],
   "source": [
    "def show_values_on_bars(axs, h_v=\"v\", space=0.4):\n",
    "    def _show_on_single_plot(ax):\n",
    "        if h_v == \"v\":\n",
    "            for p in ax.patches:\n",
    "                _x = p.get_x() + p.get_width() / 2\n",
    "                _y = p.get_y() + p.get_height()\n",
    "                value = int(p.get_height())\n",
    "                ax.text(_x, _y, value, ha=\"center\") \n",
    "        elif h_v == \"h\":\n",
    "            for p in ax.patches:\n",
    "                _x = p.get_x() + p.get_width() + float(space)\n",
    "                _y = p.get_y() + p.get_height()\n",
    "                value = int(p.get_width())\n",
    "                ax.text(_x, _y, value, ha=\"left\")\n",
    "\n",
    "    if isinstance(axs, np.ndarray):\n",
    "        for idx, ax in np.ndenumerate(axs):\n",
    "            _show_on_single_plot(ax)\n",
    "    else:\n",
    "        _show_on_single_plot(axs)"
   ]
  },
  {
   "cell_type": "code",
   "execution_count": null,
   "metadata": {},
   "outputs": [],
   "source": [
    "colors_recykling = {'metals_and_plastics':'yellow',\n",
    "                    'non-recyclable': 'gray',\n",
    "                    'unknown':'gray',\n",
    "                    'glass': 'green',\n",
    "                    'paper': 'blue',\n",
    "                    'bio': 'brown',\n",
    "                    'other': 'pink'}"
   ]
  },
  {
   "cell_type": "markdown",
   "metadata": {},
   "source": [
    "# deepseawaste pictures\n",
    "- classes: 52\n",
    "- annotation: class per image"
   ]
  },
  {
   "cell_type": "code",
   "execution_count": null,
   "metadata": {},
   "outputs": [],
   "source": [
    "dataDir = '/dih4/dih4_2/wimlds/data/deepseawaste/images'\n",
    "excel_path = '/dih4/dih4_2/wimlds/zklawikowska/deepseawaste.xlsx'\n",
    "df = pd.read_excel(excel_path, engine='openpyxl')  "
   ]
  },
  {
   "cell_type": "code",
   "execution_count": null,
   "metadata": {},
   "outputs": [],
   "source": [
    "images = os.listdir(dataDir)\n",
    "df = df.drop_duplicates(subset=['image'])"
   ]
  },
  {
   "cell_type": "code",
   "execution_count": null,
   "metadata": {},
   "outputs": [],
   "source": [
    "def append_value(dict_obj, key, value):\n",
    "    # Check if key exist in dict or not\n",
    "    if key in dict_obj:\n",
    "        # Key exist in dict.\n",
    "        # Check if type of value of key is list or not\n",
    "        if not isinstance(dict_obj[key], list):\n",
    "            # If type is not list then make it list\n",
    "            dict_obj[key] = [dict_obj[key]]\n",
    "        # Append the value in list\n",
    "        dict_obj[key].append(value)\n",
    "    else:\n",
    "        # As key is not in dict,\n",
    "        # so, add key-value pair\n",
    "        dict_obj[key] = value"
   ]
  },
  {
   "cell_type": "code",
   "execution_count": null,
   "metadata": {},
   "outputs": [],
   "source": [
    "categories = df.loc[:,'types']\n",
    "images_names = df.loc[:,'image']\n",
    "\n",
    "categories_new = []\n",
    "image_to_category = {}\n",
    "category_to_image = {}\n",
    "i = 0\n",
    "for cat, name in zip(categories,images_names):\n",
    "\n",
    "    cat_new = cat.split(', ')    \n",
    "    i2c = []\n",
    "    for c in cat_new:\n",
    "\n",
    "        c = c.split(' (')[0]\n",
    "        categories_new.append(c)\n",
    "        i2c.append(c)\n",
    "        append_value(category_to_image, c, name.split('/')[-1])\n",
    "\n",
    "\n",
    "    image_to_category[name.split('/')[-1]]=i2c\n",
    "    \n",
    "categories = list(set(categories_new))\n"
   ]
  },
  {
   "cell_type": "code",
   "execution_count": null,
   "metadata": {},
   "outputs": [],
   "source": [
    "print(len(image_to_category),len(categories), categories)"
   ]
  },
  {
   "cell_type": "code",
   "execution_count": null,
   "metadata": {},
   "outputs": [],
   "source": [
    "#load and display image\n",
    "import random\n",
    "for i in range(1,5):\n",
    "#     rand_cat = random.choice(categories)\n",
    "    img_name = random.choice(os.listdir(dataDir))  \n",
    "    I = io.imread(os.path.join(dataDir,img_name))\n",
    "    plt.figure()\n",
    "    plt.imshow(I)\n",
    "    plt.axis('off')\n",
    "    print(image_to_category[img_name], img_name)\n"
   ]
  },
  {
   "cell_type": "code",
   "execution_count": null,
   "metadata": {},
   "outputs": [],
   "source": [
    "categories_count = {category: np.size(category_to_image[category]) for category in categories}\n",
    "categories_count"
   ]
  },
  {
   "cell_type": "code",
   "execution_count": null,
   "metadata": {},
   "outputs": [],
   "source": [
    "f, ax = plt.subplots(figsize=(5,15))\n",
    "\n",
    "cat_histogram = np.array([categories_count[category] for category in categories])\n",
    "\n",
    "# Convert to DataFrame\n",
    "df = pd.DataFrame({'Categories': categories, 'Number of images': cat_histogram})\n",
    "df = df.sort_values('Number of images', 0, False)\n",
    "\n",
    "# Plot the histogram\n",
    "sns.set_color_codes(\"pastel\")\n",
    "sns.set(style=\"whitegrid\")\n",
    "plot_1 = sns.barplot(x=\"Number of images\", y=\"Categories\", data=df,\n",
    "            label=\"Total\", color=\"b\")\n",
    "show_values_on_bars(plot_1, \"h\", 0.3)"
   ]
  },
  {
   "cell_type": "code",
   "execution_count": null,
   "metadata": {},
   "outputs": [],
   "source": [
    "def deepseawaste_to_detectwaste(label):\n",
    "\n",
    "\n",
    "    metals_and_plastics = ['Bottle','Can','Packaging/Container','Plastic bag/sheet','Plastic bag','Packaging/container','A packaging bag','Plastic bottle','Basket','18-liter square can','Other plastic product','Bag','A label for beverage ','Beverage can','plastic bag/sheet','Beverage bottle','A packaging bag of fishing bait']    \n",
    "    non_recyclable = ['Videotape', 'Beach ball','Boot [rubber/plastic]','Fishing line','A pair of pants', 'Other cloth product', 'Rope','Net','Ball','Glove [rubber/plastic]','Fishing net','Windbreaker', 'Ashtray']    \n",
    "    other = ['Bumper', 'Piece of plant/wood', 'Tarpaulin', 'Wheel','Battery','Wooden box','Wire','Sandbag/construction bag']\n",
    "\n",
    "    bio = ['Bamboo stick']\n",
    "    unknown = ['Blockish object','Box-like shape', 'Stick-like shape', 'Sheet-like shape','Other artificial debris','Belt-like shape','Bucket-like shape','Bag-like shape','Unidentified debris','Tube-like shape','Cup-like shape','Cord/String-like shape','A kind of component']\n",
    "\n",
    "\n",
    "    if (label in metals_and_plastics):\n",
    "            label=\"metals_and_plastics\"\n",
    "    elif(label in non_recyclable):\n",
    "            label=\"non-recyclable\"\n",
    "    elif(label in other):\n",
    "            label=\"other\"\n",
    "\n",
    "    elif(label in bio):\n",
    "            label=\"bio\"\n",
    "    elif(label in unknown):\n",
    "            label=\"unknown\"\n",
    "    else:\n",
    "        print(label, \"is non-deepseawaste label\")\n",
    "        label = \"unknown\"\n",
    "    return label"
   ]
  },
  {
   "cell_type": "code",
   "execution_count": null,
   "metadata": {},
   "outputs": [],
   "source": [
    "detect_waste_count = defaultdict(int)\n",
    "for category in categories:\n",
    "    detect_waste_count[deepseawaste_to_detectwaste(category)]+=categories_count[category]\n",
    "detect_waste_categories = list(detect_waste_count.keys())\n",
    "detect_waste_count"
   ]
  },
  {
   "cell_type": "code",
   "execution_count": null,
   "metadata": {},
   "outputs": [],
   "source": [
    "\n",
    "f, ax = plt.subplots(figsize=(5,15))\n",
    "\n",
    "detect_waste_cat_histogram = np.array([detect_waste_count[category] for category in detect_waste_categories])\n",
    "\n",
    "# Convert to DataFrame\n",
    "df = pd.DataFrame({'Categories': detect_waste_categories, 'Number of images per detectwaste category': detect_waste_cat_histogram})\n",
    "df = df.sort_values('Number of images per detectwaste category', 0, False)\n",
    "\n",
    "# Plot the histogram\n",
    "sup_cat = df.loc[:,'Categories'].tolist()\n",
    "colors = [colors_recykling[cat] for cat in sup_cat]\n",
    "\n",
    "sns.set(style=\"whitegrid\")\n",
    "sns.set_palette(sns.color_palette(colors))\n",
    "plot_1 = sns.barplot(x=\"Number of images per detectwaste category\", y=\"Categories\", data=df,\n",
    "            label=\"Total\")\n",
    "show_values_on_bars(plot_1, \"h\", 0.3)"
   ]
  },
  {
   "cell_type": "markdown",
   "metadata": {},
   "source": [
    "### Number of images per image shape"
   ]
  },
  {
   "cell_type": "code",
   "execution_count": null,
   "metadata": {},
   "outputs": [],
   "source": [
    "# Parsing image shapes (resolutions)\n",
    "widths = []\n",
    "heights = []\n",
    "shape_freqs = []\n",
    "img_shapes_keys = {}\n",
    "\n",
    "for img in images:\n",
    "    \n",
    "    try:\n",
    "        im = plt.imread(dataDir + '/' + img)\n",
    "        width=np.shape(im)[1]\n",
    "        height=np.shape(im)[0]\n",
    "\n",
    "        key = str(width)+'-'+str(height)\n",
    "        if key in img_shapes_keys:\n",
    "            shape_id = img_shapes_keys[key]\n",
    "            shape_freqs[shape_id] += 1\n",
    "        else:\n",
    "            img_shapes_keys[key] = len(widths)\n",
    "            widths.append(width)\n",
    "            heights.append(height)\n",
    "            shape_freqs.append(1)\n",
    "    except:\n",
    "        pass\n",
    "\n",
    "d ={'Image width (px)': widths, 'Image height (px)': heights, '# images': shape_freqs}\n",
    "df = pd.DataFrame(d)\n",
    "cmap = sns.cubehelix_palette(dark=.1, light=.6, as_cmap=True)\n",
    "plot = sns.scatterplot(x=\"Image width (px)\", y=\"Image height (px)\", size='# images', hue=\"# images\", palette = cmap,data=df)\n",
    "plt.xlabel('Image width (px)', fontsize=15)\n",
    "plt.ylabel('Image height (px)', fontsize=15)\n",
    "plot = plot.set_title('Number of images per image shape',fontsize=15)"
   ]
  }
 ],
 "metadata": {
  "kernelspec": {
   "display_name": "plastic",
   "language": "python",
   "name": "plastic"
  },
  "language_info": {
   "codemirror_mode": {
    "name": "ipython",
    "version": 3
   },
   "file_extension": ".py",
   "mimetype": "text/x-python",
   "name": "python",
   "nbconvert_exporter": "python",
   "pygments_lexer": "ipython3"
  }
 },
 "nbformat": 4,
 "nbformat_minor": 4
}
