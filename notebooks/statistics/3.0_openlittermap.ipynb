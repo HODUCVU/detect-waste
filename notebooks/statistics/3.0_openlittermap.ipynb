{
 "cells": [
  {
   "cell_type": "code",
   "execution_count": null,
   "metadata": {},
   "outputs": [],
   "source": [
    "import json\n",
    "from collections import defaultdict\n",
    "import matplotlib.pyplot as plt"
   ]
  },
  {
   "cell_type": "code",
   "execution_count": null,
   "metadata": {},
   "outputs": [],
   "source": [
    "with open(\"C:\\\\Users\\Zuza\\Desktop\\jsondata.json\", 'r') as file:\n",
    "    data = json.loads(file.read())"
   ]
  },
  {
   "cell_type": "code",
   "execution_count": null,
   "metadata": {},
   "outputs": [],
   "source": [
    "categories = set()\n",
    "for feature in data['features']:\n",
    "    splitted_feature = feature['properties']['result_string'].split(',')\n",
    "    for cat in splitted_feature:\n",
    "        splitted_cat = cat.split(' ')[0]\n",
    "        categories.add(splitted_cat)\n",
    "        \n",
    "categories           "
   ]
  },
  {
   "cell_type": "code",
   "execution_count": null,
   "metadata": {},
   "outputs": [],
   "source": [
    "categories_dict = defaultdict(set)\n",
    "for category in categories:\n",
    "    splitted_cat = category.split('.')\n",
    "    if len(splitted_cat) > 1:\n",
    "        categories_dict[splitted_cat[0]].add(splitted_cat[1])\n",
    "    \n",
    "categories_dict"
   ]
  },
  {
   "cell_type": "code",
   "execution_count": null,
   "metadata": {},
   "outputs": [],
   "source": [
    "item_histogram = {category: 0 for category in categories}\n",
    "for feature in data['features']:\n",
    "    splitted_cat = feature['properties']['result_string'].split(',')\n",
    "    for cat in splitted_cat:\n",
    "        if len(cat) > 1:\n",
    "            item_histogram[cat.split(' ')[0]] += int(cat.split(' ')[1])\n",
    "\n",
    "\n",
    "item_histogram\n"
   ]
  },
  {
   "cell_type": "code",
   "execution_count": null,
   "metadata": {},
   "outputs": [],
   "source": [
    "main_item_histogram = {main_category: 0 for main_category in categories_dict}\n",
    "for feature in data['features']:\n",
    "    splitted_feature = feature['properties']['result_string'].split(',')\n",
    "    for cat in splitted_feature:\n",
    "        splitted_cat = cat.split(' ')\n",
    "        main_cat = splitted_cat[0].split('.')[0]\n",
    "        if len(main_cat) > 1:\n",
    "            main_item_histogram[main_cat] += int(splitted_cat[1])\n",
    "\n",
    "print(main_item_histogram)\n",
    "keys = main_item_histogram.keys()\n",
    "values = main_item_histogram.values()\n",
    "plt.bar(keys,values)"
   ]
  },
  {
   "cell_type": "code",
   "execution_count": null,
   "metadata": {},
   "outputs": [],
   "source": [
    "print(f'there are {len(categories_dict)} main categories and {len(categories)} subcategories')"
   ]
  },
  {
   "cell_type": "code",
   "execution_count": null,
   "metadata": {},
   "outputs": [],
   "source": []
  },
  {
   "cell_type": "code",
   "execution_count": null,
   "metadata": {},
   "outputs": [],
   "source": []
  },
  {
   "cell_type": "code",
   "execution_count": null,
   "metadata": {},
   "outputs": [],
   "source": []
  }
 ],
 "metadata": {
  "kernelspec": {
   "display_name": "Python 2",
   "language": "python",
   "name": "python2"
  },
  "language_info": {
   "codemirror_mode": {
    "name": "ipython",
    "version": 2
   },
   "file_extension": ".py",
   "mimetype": "text/x-python",
   "name": "python",
   "nbconvert_exporter": "python",
   "pygments_lexer": "ipython2"
  }
 },
 "nbformat": 4,
 "nbformat_minor": 0
}
