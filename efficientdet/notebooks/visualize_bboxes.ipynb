{
 "cells": [
  {
   "cell_type": "code",
   "execution_count": null,
   "metadata": {},
   "outputs": [],
   "source": [
    "import random as rand\n",
    "import json\n",
    "import cv2\n",
    "from matplotlib import pyplot as plt\n",
    "import albumentations as A\n",
    "import os"
   ]
  },
  {
   "cell_type": "code",
   "execution_count": null,
   "metadata": {},
   "outputs": [],
   "source": [
    "PATH_TO_IMAGES = '/dih4/dih4_2/wimlds/data'\n",
    "PATH_TO_ANN = '/dih4/dih4_2/wimlds/amikolajczyk/detect-waste/annotations/annotations_test.json'"
   ]
  },
  {
   "cell_type": "code",
   "execution_count": null,
   "metadata": {},
   "outputs": [],
   "source": [
    "with open(PATH_TO_ANN, 'r') as f:\n",
    "        annotations = json.loads(f.read())"
   ]
  },
  {
   "cell_type": "code",
   "execution_count": null,
   "metadata": {},
   "outputs": [],
   "source": [
    "annotations['categories']"
   ]
  },
  {
   "cell_type": "code",
   "execution_count": null,
   "metadata": {},
   "outputs": [],
   "source": [
    "annotations.keys()"
   ]
  },
  {
   "cell_type": "code",
   "execution_count": null,
   "metadata": {},
   "outputs": [],
   "source": [
    "annotations['licenses']"
   ]
  },
  {
   "cell_type": "code",
   "execution_count": null,
   "metadata": {},
   "outputs": [],
   "source": [
    "def rand_image(PATH_TO_IMAGES, annotations):\n",
    "    im_id = rand.randint(0,len(annotations['images']))\n",
    "    annotation, image = annotations['annotations'], annotations['images'][im_id]\n",
    "    bboxes = [ann['bbox'] for ann in annotation if ann['image_id'] == image['id']]\n",
    "    category_ids = [ann['category_id'] for ann in annotation if ann['image_id'] == image['id']]\n",
    "    return image['file_name'], bboxes, category_ids"
   ]
  },
  {
   "cell_type": "code",
   "execution_count": null,
   "metadata": {},
   "outputs": [],
   "source": [
    "categories = annotations['categories']\n",
    "category_id_to_name={}\n",
    "for cat in categories:\n",
    "    category_id_to_name[cat['id']] = cat['name']"
   ]
  },
  {
   "cell_type": "code",
   "execution_count": null,
   "metadata": {},
   "outputs": [],
   "source": [
    "BOX_COLOR = (255,0,0) # red\n",
    "TEXT_COLOR = (255,255,255) # white\n",
    "def visualize_bbox(img, bbox, class_name, color=BOX_COLOR, thickness=4):\n",
    "    FONT = cv2.FONT_HERSHEY_SIMPLEX\n",
    "    x_min, y_min, w, h = bbox\n",
    "    x_min, x_max, y_min, y_max = int(x_min), int(x_min + w), int(y_min), int(y_min + h)\n",
    "    \n",
    "    cv2.rectangle(img, (x_min, y_min), (x_max, y_max), color=color, thickness=thickness)\n",
    "    ((text_width, text_height), _) = cv2.getTextSize(class_name, FONT, 0.35,1)\n",
    "    cv2.rectangle(img, (x_min, y_min - int(1.3 * text_height)),(x_min + text_width, y_min), BOX_COLOR, -1)\n",
    "    cv2.putText(\n",
    "        img,\n",
    "        text = class_name,\n",
    "        org = (x_min, y_min - int(0.3 * text_height)),\n",
    "        fontFace = FONT,\n",
    "        fontScale = 0.35,\n",
    "        color = TEXT_COLOR,\n",
    "        lineType = cv2.LINE_AA,\n",
    "        )\n",
    "    \n",
    "    return img\n",
    "\n",
    "def visualize(image, bboxes, category_ids, category_id_to_name):\n",
    "    img = image.copy()\n",
    "    if isinstance(category_ids, list):\n",
    "        for bbox, category_id in zip(bboxes, category_ids):\n",
    "            class_name = category_id_to_name[category_id]\n",
    "            img = visualize_bbox(img, bbox, class_name)\n",
    "    else:\n",
    "        class_name = category_id_to_name[category_ids]\n",
    "        img = visualize_bbox(img, bboxes, class_name)\n",
    "            \n",
    "    plt.figure(figsize=(16,16))\n",
    "    plt.axis('off')\n",
    "    plt.imshow(img)"
   ]
  },
  {
   "cell_type": "markdown",
   "metadata": {},
   "source": [
    "# Visualize original annotations"
   ]
  },
  {
   "cell_type": "code",
   "execution_count": null,
   "metadata": {},
   "outputs": [],
   "source": [
    "path_to_im, bbox, category_id = rand_image(PATH_TO_IMAGES, annotations)\n",
    "image = cv2.imread(PATH_TO_IMAGES+'/'+path_to_im)\n",
    "image = cv2.cvtColor(image, cv2.COLOR_BGR2RGB)\n",
    "visualize(image, bbox, category_id, category_id_to_name)"
   ]
  },
  {
   "cell_type": "markdown",
   "metadata": {},
   "source": [
    "# Visualize prediction results"
   ]
  },
  {
   "cell_type": "code",
   "execution_count": null,
   "metadata": {},
   "outputs": [],
   "source": [
    "# TO ADD RESULTS LIST YOUR DIRECTORIES WITH OUTPUTS\n",
    "# os.listdir('/dih4/dih4_2/wimlds/smajchrowska/output/train/')\n",
    "\n",
    "# Set parameters\n",
    "TYPE = 'Multi'\n",
    "threshold = .4  # set threshold for probability"
   ]
  },
  {
   "cell_type": "code",
   "execution_count": null,
   "metadata": {},
   "outputs": [],
   "source": [
    "import sys\n",
    "# add modules from efficiendet path\n",
    "sys.path.append('../')\n",
    "\n",
    "import torch.nn.parallel\n",
    "from contextlib import suppress\n",
    "\n",
    "from effdet import create_model, create_evaluator, create_dataset, create_loader\n",
    "from effdet.data import resolve_input_config\n",
    "from effdet.evaluator import CocoEvaluator, PascalEvaluator\n",
    "from timm.utils import AverageMeter, setup_default_logging\n",
    "\n",
    "if TYPE == 'DetectWaste7':\n",
    "    CH_PATH = '/dih4/dih4_2/wimlds/amikolajczyk/detect-waste/output/train/20201221-212419-tf_efficientdet_d2/model_best.pth.tar'\n",
    "    CLASSES = ['metals_and_plastic', 'other', 'non_recyclable', 'glass',  'paper',  'bio', 'unknown']\n",
    "elif TYPE == 'Multi':\n",
    "    CH_PATH = '/dih4/dih4_2/wimlds/smajchrowska/output/train/20210130-231654-tf_efficientdet_d2/model_best.pth.tar'\n",
    "    CLASSES = ['Litter']\n",
    "elif TYPE == 'icra_coco':\n",
    "    CH_PATH = '/dih4/dih4_2/wimlds/smajchrowska/output/train/20210130-103847-tf_efficientdet_d2/model_best.pth.tar'\n",
    "    CLASSES = ['plastic', 'paper', 'unknown', 'cloth', 'rubber', 'metal', 'wood']\n",
    "elif TYPE == 'drink-waste':\n",
    "    CH_PATH = '/dih4/dih4_2/wimlds/smajchrowska/output/train/20210129-212456-tf_efficientdet_d2/model_best.pth.tar'\n",
    "    CLASSES = ['AluCan', 'Glass', 'HDPEM', 'PET']\n",
    "elif TYPE == 'TrashCan':\n",
    "    CH_PATH = '/dih4/dih4_2/wimlds/smajchrowska/output/train/20210129-204736-tf_efficientdet_d2/model_best.pth.tar'\n",
    "    CLASSES = ['trash_etc', 'trash_fabric', 'trash_fishing_gear','trash_metal',\n",
    "           'trash_paper','trash_plastic', 'trash_rubber','trash_wood']\n",
    "elif TYPE == 'mju-waste':\n",
    "    CH_PATH = '/dih4/dih4_2/wimlds/smajchrowska/output/train/20210130-101501-tf_efficientdet_d2/model_best.pth.tar'\n",
    "    CLASSES = ['Litter']\n",
    "elif TYPE == 'wade-ai':\n",
    "    CH_PATH = '/dih4/dih4_2/wimlds/smajchrowska/output/train/20210130-102812-tf_efficientdet_d2/model_best.pth.tar'\n",
    "    CLASSES = ['Litter'] \n",
    "elif TYPE == 'uavvaste':\n",
    "    CH_PATH = '/dih4/dih4_2/wimlds/smajchrowska/output/train/20210130-101136-tf_efficientdet_d2/model_best.pth.tar'\n",
    "    CLASSES = ['Litter'] \n",
    "\n",
    "num_classes = len(CLASSES)\n",
    "print(CH_PATH)\n",
    "model = CH_PATH.split('-')[-1].split('/')[0]\n",
    "# create model\n",
    "bench = create_model(\n",
    "    model,\n",
    "    bench_task='predict',\n",
    "    num_classes=num_classes,\n",
    "    pretrained=False,\n",
    "    redundant_bias=True,\n",
    "    checkpoint_path=CH_PATH\n",
    ")\n",
    "model_config = bench.config\n",
    "\n",
    "param_count = sum([m.numel() for m in bench.parameters()])\n",
    "print('Model %s created, param count: %d' % (model, param_count))\n",
    "\n",
    "bench = bench.to('cpu')\n",
    "bench.eval()"
   ]
  },
  {
   "cell_type": "code",
   "execution_count": null,
   "metadata": {},
   "outputs": [],
   "source": [
    "from PIL import Image\n",
    "import torchvision.transforms as T\n",
    "import torch\n",
    "torch.set_grad_enabled(False);\n",
    "\n",
    "from effdet.data.transforms import *\n",
    "import numpy as np\n",
    "import matplotlib.pyplot as plt\n",
    "\n",
    "# standard PyTorch mean-std input image normalization\n",
    "transform = T.Compose([\n",
    "    T.Resize((768, 768)),\n",
    "    T.ToTensor(),\n",
    "    T.Normalize([0.485, 0.456, 0.406], [0.229, 0.224, 0.225])\n",
    "])\n",
    "\n",
    "if TYPE == 'DetectWaste7':\n",
    "    img_name = '/dih4/dih4_2/wimlds/smajchrowska/TACO_split/val/000344.jpg'\n",
    "    img_name = '/dih4/dih4_2/wimlds/smajchrowska/TACO_split/val/001290.jpg'\n",
    "    img_name = '/dih4/dih4_2/wimlds/smajchrowska/TACO_split/val/000069.jpg'\n",
    "    img_name = '/dih4/dih4_2/wimlds/smajchrowska/TACO_split/val/001203.jpg'\n",
    "elif TYPE == 'Multi':\n",
    "    img_name = '/dih4/dih4_2/wimlds/data/all_detect_images/batch_8/000037.jpg' # glass\n",
    "    img_name = '/dih4/dih4_2/wimlds/data/all_detect_images/batch_14/000081.jpg' # glass\n",
    "    img_name = '/dih4/dih4_2/wimlds/data/all_detect_images/dumped/99toMesVaOHKd8lOIZBVKS1MDPlXSPkTmdijxfiO.jpeg' # wszystko\n",
    "    # img_name = 'https://www.fyidenmark.com/images/denmark-litter.jpg'\n",
    "elif TYPE == 'drink-waste':\n",
    "    # drink-waste\n",
    "    img_name = '/dih4/dih4_2/wimlds/data/drinking-waste/YOLO_imgs/mix5.jpg'\n",
    "elif TYPE == 'mju-waste':\n",
    "    # mju-waste\n",
    "    img_name = '/dih4/dih4_2/wimlds/data/mju-waste-v1/JPEGImages/2019-09-19_16_20_17-93_color.png'\n",
    "elif TYPE == 'uavvaste':\n",
    "    # drone dataset\n",
    "    img_name = '/dih4/dih4_2/wimlds/data/uavvaste/images/batch_03_img_3120.jpg'\n",
    "    # Wada-AI\n",
    "    img_name = '/dih4/dih4_2/wimlds/data/wade-ai/wade-ai_images/0b62d36a-763c-4d55-84c1-488a9516ffad_02471439-08f6-4915-b0c6-9a8065bf8b85.jpg' # wade-ai\n",
    "elif TYPE == 'TrashCan':\n",
    "    # TrashCan\n",
    "    img_name = '/dih4/dih4_2/wimlds/data/TrashCan_v1/material_version/val/vid_000291_frame0000065.jpg'\n",
    "    img_name = '/dih4/dih4_2/wimlds/data/TrashCan_v1/material_version/val/vid_000112_frame0000050.jpg'\n",
    "elif TYPE == 'icra_coco':\n",
    "    # ICRA\n",
    "    img_name = '/dih4/dih4_2/wimlds/data/trash_icra/trash_ICRA19/dataset/val/obj0029_frame0000025.jpg'"
   ]
  },
  {
   "cell_type": "code",
   "execution_count": null,
   "metadata": {},
   "outputs": [],
   "source": [
    "# read an image\n",
    "if img_name.startswith('https'):\n",
    "    import requests\n",
    "    im = Image.open(requests.get(img_name, stream=True).raw).convert('RGB')\n",
    "else:\n",
    "    im = Image.open(img_name).convert('RGB')\n",
    "\n",
    "# mean-std normalize the input image (batch-size: 1)\n",
    "img = transform(im).unsqueeze(0)\n",
    "\n",
    "# propagate through the model\n",
    "outputs = bench(img)"
   ]
  },
  {
   "cell_type": "code",
   "execution_count": null,
   "metadata": {},
   "outputs": [],
   "source": [
    "plt.figure(figsize=(16,10))\n",
    "#imga = im.resize((768, 768), Image.ANTIALIAS)\n",
    "plt.imshow(im)\n",
    "w, h = im.size\n",
    "ax = plt.gca()\n",
    "\n",
    "for i in outputs[0, outputs[0, :, 4] > threshold].tolist():\n",
    "    scale_w = w/768\n",
    "    scale_h = h/768\n",
    "    i[0] *= scale_w\n",
    "    i[1] *= scale_h\n",
    "    i[2] *= scale_w\n",
    "    i[3] *= scale_h\n",
    "    p = np.array(i[4:-1])\n",
    "    ax.add_patch(plt.Rectangle((i[0], i[1]), i[2] - i[0], i[3] - i[1],\n",
    "                                   fill=False, color='r', linewidth=3))\n",
    "    cl = int(i[-1])-1\n",
    "    text = f'{CLASSES[cl]}: {p[0]:0.2f}'\n",
    "    ax.text(i[0], i[1], text, fontsize=15,\n",
    "            bbox=dict(facecolor='yellow', alpha=0.5))\n",
    "plt.axis('off')\n",
    "plt.show()"
   ]
  },
  {
   "cell_type": "code",
   "execution_count": null,
   "metadata": {},
   "outputs": [],
   "source": []
  }
 ],
 "metadata": {
  "kernelspec": {
   "display_name": "efficientdet",
   "language": "python",
   "name": "efficientdet"
  },
  "language_info": {
   "codemirror_mode": {
    "name": "ipython",
    "version": 3
   },
   "file_extension": ".py",
   "mimetype": "text/x-python",
   "name": "python",
   "nbconvert_exporter": "python",
   "pygments_lexer": "ipython3"
  }
 },
 "nbformat": 4,
 "nbformat_minor": 4
}
